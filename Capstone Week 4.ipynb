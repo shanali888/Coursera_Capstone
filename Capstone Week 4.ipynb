{
 "cells": [
  {
   "cell_type": "markdown",
   "metadata": {},
   "source": [
    "# Capstone Week 4 Notebook\n",
    "\n",
    "### Introduction/Business Problem:"
   ]
  },
  {
   "cell_type": "markdown",
   "metadata": {},
   "source": [
    "##### *Note from the New Arrivals Department of the City of Toronto Government:*\n",
    "\n",
    "Welcome to the beautiful City of Toronto! \n",
    "\n",
    "We know moving can be challenging and stressful. To help your transition to our great city, we provide a free service to help connect you with the right neighborhood for you. The service utilizes your distance from work, similarity to previous neighborhoods, and preferred lifestyle amenities nearby. Just input the required information and we'll take care of the rest. Thank you and welcome home!"
   ]
  },
  {
   "cell_type": "markdown",
   "metadata": {},
   "source": [
    "*Further Details:* This project is aimed to compare a user's previous neighborhood, distance to work, and desired amenities and provide a recommendation for a new neighborhood in the City of Toronto. The target audience would be a new immigrant to the City of Toronto. The stakeholders are the residents and administrators of the City of Toronto. "
   ]
  },
  {
   "cell_type": "markdown",
   "metadata": {},
   "source": [
    "### Data Requirements:"
   ]
  },
  {
   "cell_type": "markdown",
   "metadata": {},
   "source": [
    "##### Inputs:\n",
    "\n",
    "1. Previous address\n",
    "2. Further work address\n",
    "3. Top three amenities\n",
    "\n",
    "##### Outputs:\n",
    "\n",
    "1. Ranked list of recommended neighborhoods (top 5)\n",
    "\n",
    "##### Datasets Required:\n",
    "\n",
    "- Clustered venue data per neighborhood about Toronto (constructed week 3)\n",
    "- Venue data about previous address\n",
    "\n",
    "I will take the data and construct a content-based recommender to produce the final recommendations."
   ]
  },
  {
   "cell_type": "code",
   "execution_count": null,
   "metadata": {},
   "outputs": [],
   "source": []
  }
 ],
 "metadata": {
  "kernelspec": {
   "display_name": "Python",
   "language": "python",
   "name": "conda-env-python-py"
  },
  "language_info": {
   "codemirror_mode": {
    "name": "ipython",
    "version": 3
   },
   "file_extension": ".py",
   "mimetype": "text/x-python",
   "name": "python",
   "nbconvert_exporter": "python",
   "pygments_lexer": "ipython3",
   "version": "3.6.10"
  }
 },
 "nbformat": 4,
 "nbformat_minor": 4
}
